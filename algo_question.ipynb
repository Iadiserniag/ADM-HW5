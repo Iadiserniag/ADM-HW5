{
 "cells": [
  {
   "cell_type": "markdown",
   "metadata": {},
   "source": [
    "## Algorithmic Question"
   ]
  },
  {
   "cell_type": "markdown",
   "metadata": {},
   "source": [
    "### Import the modules"
   ]
  },
  {
   "cell_type": "code",
   "execution_count": 1,
   "metadata": {},
   "outputs": [],
   "source": [
    "import networkx as nx # to build the graph\n",
    "import matplotlib.pyplot as plt # to plot the graph\n",
    "from itertools import groupby"
   ]
  },
  {
   "cell_type": "markdown",
   "metadata": {},
   "source": [
    "### The Graph"
   ]
  },
  {
   "cell_type": "markdown",
   "metadata": {},
   "source": [
    "* We build the graph using the $grid\\_2d\\_graph$ from the $networkx$ package that returns a 2D **grid graph**, with $n,m=3$.\n",
    "* The grid graph has each node connected to its nearest neighbors: two if it's a corner node ($node1$), three if it's an edge node ($node2$) and four if it's a center node ($node5$).\n",
    "* This produces a graph with $9$ nodes and $12$ edges connecting the nodes. Each edge represents one of the possible line segment composing Sarah's phone password."
   ]
  },
  {
   "cell_type": "code",
   "execution_count": 2,
   "metadata": {},
   "outputs": [],
   "source": [
    "G = nx.grid_2d_graph(3, 3)"
   ]
  },
  {
   "cell_type": "markdown",
   "metadata": {},
   "source": [
    "* Below we find a plot that helps us better visualize the graph."
   ]
  },
  {
   "cell_type": "code",
   "execution_count": 3,
   "metadata": {},
   "outputs": [
    {
     "data": {
      "image/png": "[encoded data removed]",
      "text/plain": [
       "<Figure size 360x360 with 1 Axes>"
      ]
     },
     "metadata": {},
     "output_type": "display_data"
    }
   ],
   "source": [
    "plt.figure(figsize=(5,5))\n",
    "pos = {(x,y):(y,-x) for x,y in G.nodes()} # position of the nodes\n",
    "labels = dict([(key, i+1) for i, key in enumerate(pos)]) # labels of the nodes\n",
    "nx.draw(G, pos=pos,\n",
    "        labels=labels,\n",
    "        node_color='orange', \n",
    "        with_labels=True,\n",
    "        node_size=1000,\n",
    "        width=0.5)"
   ]
  },
  {
   "cell_type": "markdown",
   "metadata": {},
   "source": [
    "### The Algorithm"
   ]
  },
  {
   "cell_type": "code",
   "execution_count": 4,
   "metadata": {},
   "outputs": [
    {
     "name": "stdout",
     "output_type": "stream",
     "text": [
      "Insert the directions here: DRU\n"
     ]
    }
   ],
   "source": [
    "# the user inserts the input, let's for example test 'DRU'\n",
    "string = str(input('Insert the directions here: '))"
   ]
  },
  {
   "cell_type": "code",
   "execution_count": 5,
   "metadata": {},
   "outputs": [
    {
     "name": "stdout",
     "output_type": "stream",
     "text": [
      "The nodes of the graph G are [(0, 0), (0, 1), (0, 2), (1, 0), (1, 1), (1, 2), (2, 0), (2, 1), (2, 2)]\n"
     ]
    }
   ],
   "source": [
    "print(\"The nodes of the graph G are\", G.nodes())"
   ]
  },
  {
   "cell_type": "markdown",
   "metadata": {},
   "source": [
    "#### get_all_paths"
   ]
  },
  {
   "cell_type": "markdown",
   "metadata": {},
   "source": [
    "* First we define the function $get\\_all\\_paths$ that takes as inputs the $Graph$, $node1$ and $node2$ and returns the list of    all paths linking the two nodes.\n",
    "* To do so, we exploit the $Networkx$ built-in function called $all\\_simple\\_paths$ which lists all the paths (no loops or intersections) between $node1$ and $node2$.\n",
    "* Each node is defined as a tuple of two integers that explain the *position* of the node in the graph. The numbers in the tuple refer to the position of the node in the graph with respect to the x-axis and the y-axis. For instance, $node 1$ is in position $(0,0)$, $node 2$ is in position $(1,0)$, $node 5$ is in position $(1,1)$, $node 9$ is in position $(2,2)$ and so on."
   ]
  },
  {
   "cell_type": "code",
   "execution_count": 6,
   "metadata": {},
   "outputs": [
    {
     "name": "stdout",
     "output_type": "stream",
     "text": [
      "The number of different patterns is equal to: 8\n"
     ]
    }
   ],
   "source": [
    "def get_all_paths(Graph, node1, node2):\n",
    "    \n",
    "    return [path for path in nx.all_simple_paths(Graph, node1, node2)]\n",
    "\n",
    "print(\"The number of different patterns is equal to:\", len(get_all_paths(G, (0, 1), (0, 2))))"
   ]
  },
  {
   "cell_type": "markdown",
   "metadata": {},
   "source": [
    "#### get_possible_paths"
   ]
  },
  {
   "cell_type": "markdown",
   "metadata": {},
   "source": [
    "* We define another function $get\\_possible\\_paths$ that takes as inputs the $Graph$, $node1$, $node2$ and the $string$ which indicates the possible *ordered directions* that can be followed travelling across the graph.\n",
    "* Therefore, we must choose only those paths (among all the paths) that go in certain specific directions, the ones imposed by the $string$.\n",
    "* First, we get $all\\_paths$ between $node1$ and $node2$ using the previously defined function $get\\_all\\_paths$.\n",
    "* We reverse the order of the nodes in each path in $all\\_paths$ and append the reversed paths $rev\\_all\\_paths$ to $all\\_paths$ as we can travel across the graph in both directions *(bidirectional graph)*.\n",
    "* Then, for each path we check the directions that are taken and store them into a string called $direct$.\n",
    "  * **Right** if $node2[1] > node1[1]$. For instance, if we move from node-2 $(0,1)$ to node-3 $(0,2)$ we are moving one step to the      right. \n",
    "  * **Left** if $node2[1] < node1[1]$. \n",
    "  * **Down** if $node2[0] > node1[0]$. For instance, if we move from node-1 $(0,0)$ to node-4 $(1,0)$ we are moving one step to the      down. \n",
    "  * **Up** if $node2[0] < node1[0]$.\n",
    "* Finally, we compare $direct$ with $string$ and choose only those paths that match the required directions imposed by $string$.\n",
    "* The function outputs the number of paths ($count$) as well as the list of paths itself ($poss\\_paths$)."
   ]
  },
  {
   "cell_type": "code",
   "execution_count": null,
   "metadata": {},
   "outputs": [],
   "source": [
    "def get_possible_paths(Graph, node1, node2, string):\n",
    "    \n",
    "    all_paths = get_all_paths(Graph, node1, node2)\n",
    "    rev_all_paths = [list(reversed(lst)) for lst in all_paths]\n",
    "    all_paths = all_paths + rev_all_paths\n",
    "    \n",
    "    count = 0\n",
    "    poss_paths = []\n",
    "\n",
    "    for path in all_paths:\n",
    "        direct = \"\"\n",
    "        for node in range(0, len(path)-1):\n",
    "            source = path[node]\n",
    "            target = path[node+1]\n",
    "            if target[1] > source[1]:\n",
    "                direct += \"R\"\n",
    "            elif target[1] < source[1]:\n",
    "                direct += \"L\"\n",
    "            elif target[0] > source[0]:\n",
    "                direct += \"D\"\n",
    "            elif target[0] < source[0]:\n",
    "                direct += \"U\"  \n",
    "        \n",
    "        lst = [*string]\n",
    "        lst_unique = [key for key, _group in groupby([*direct])]\n",
    "        if lst == lst_unique:\n",
    "            count += 1\n",
    "            poss_paths.append(path)\n",
    "        \n",
    "    return count, poss_paths"
   ]
  },
  {
   "cell_type": "markdown",
   "metadata": {},
   "source": [
    "* We can see that from the 8 paths that exist between node $(0,1)$ and node $(0,2)$, only 2"
   ]
  },
  {
   "cell_type": "code",
   "execution_count": 7,
   "metadata": {},
   "outputs": [
    {
     "name": "stdout",
     "output_type": "stream",
     "text": [
      "(2, [[(0, 1), (1, 1), (2, 1), (2, 2), (1, 2), (0, 2)], [(0, 1), (1, 1), (1, 2), (0, 2)]])\n"
     ]
    }
   ],
   "source": [
    "print(get_possible_paths(G, (0, 1), (0, 2), 'DRU'))"
   ]
  },
  {
   "cell_type": "markdown",
   "metadata": {},
   "source": [
    "#### guess_my_password"
   ]
  },
  {
   "cell_type": "markdown",
   "metadata": {},
   "source": [
    "* The last function called $guess\\_my\\_password$ takes as inputs the $Graph$, $string$ and the $labels$ that convert the node names $\\{(0,0), (0,1) ... (2,2)\\}$ to integer numbers from 1 to 9 that allow us to follow more easily the plot of the graph when checking the correctness of our algorithm.\n",
    "* For each pair of nodes ($node1$, $node2$) we count the number of paths that follow the directions dictated by $string$ using the previously defined function $get\\_possible\\_paths$.\n",
    "* we output the number ($count$) of possible patterns Alex has to try based on those directions to guess Sarah's password as well as the $count$ paths stored in a list named $poss\\_paths\\_num$."
   ]
  },
  {
   "cell_type": "code",
   "execution_count": 8,
   "metadata": {},
   "outputs": [],
   "source": [
    "def guess_my_password(Graph, string, labels):\n",
    "    \n",
    "    count = 0\n",
    "    visited = []\n",
    "    poss_paths = []\n",
    "    \n",
    "    for node1 in list(Graph.nodes()):\n",
    "        for node2 in list(Graph.nodes()):\n",
    "            if node1 != node2:\n",
    "                if (node2, node1) not in visited:\n",
    "                    visited.append((node2, node1))\n",
    "                    visited.append((node1, node2))\n",
    "                    count += get_possible_paths(Graph, node1, node2, string)[0]\n",
    "                    path = get_possible_paths(Graph, node1, node2, string)[1]\n",
    "                    \n",
    "                    if len(path) > 0:\n",
    "                        for sub in path:\n",
    "                            poss_paths.append(sub)\n",
    "    \n",
    "    # change the name of the nodes in the path to integer numbers\n",
    "    poss_paths_num = []\n",
    "    for path in poss_paths:\n",
    "        p = []\n",
    "        for node in path:\n",
    "            p.append(labels[node])    \n",
    "        poss_paths_num.append(p)\n",
    "                \n",
    "    return count, poss_paths_num, poss_paths"
   ]
  },
  {
   "cell_type": "markdown",
   "metadata": {},
   "source": [
    "#### Example 1"
   ]
  },
  {
   "cell_type": "markdown",
   "metadata": {},
   "source": [
    "* Let's suppose that $string$ is equal to **'DRU'**. This means that the paths must follow those specific directions in that specific order (**Down-Right-Up**).\n",
    "* In this case, the number of possible different patterns is 15.\n",
    "* We can also see listed the paths."
   ]
  },
  {
   "cell_type": "code",
   "execution_count": 9,
   "metadata": {},
   "outputs": [
    {
     "name": "stdout",
     "output_type": "stream",
     "text": [
      "The number of different patterns that only follow the directions Down-Right-Up is equal to: 15\n"
     ]
    }
   ],
   "source": [
    "count = guess_my_password(G, 'DRU', labels)[0]\n",
    "poss_paths_num = guess_my_password(G, 'DRU', labels)[1]\n",
    "\n",
    "print(\"The number of different patterns that only follow the directions Down-Right-Up is equal to:\", count)"
   ]
  },
  {
   "cell_type": "code",
   "execution_count": 10,
   "metadata": {},
   "outputs": [
    {
     "name": "stdout",
     "output_type": "stream",
     "text": [
      "[1, 4, 7, 8, 5, 2] [1, 4, 5, 2] [1, 4, 7, 8, 9, 6, 3] [1, 4, 5, 6, 3] [1, 4, 7, 8, 5] [1, 4, 7, 8, 9, 6] [2, 5, 8, 9, 6, 3] [2, 5, 6, 3] [4, 7, 8, 5, 2] [2, 5, 8, 9, 6] [4, 7, 8, 9, 6, 3] [5, 8, 9, 6, 3] [4, 7, 8, 5] [4, 7, 8, 9, 6] [5, 8, 9, 6]\n"
     ]
    }
   ],
   "source": [
    "print(*poss_paths_num)"
   ]
  },
  {
   "cell_type": "markdown",
   "metadata": {},
   "source": [
    "#### plot of the first Down-Right-Up path"
   ]
  },
  {
   "cell_type": "code",
   "execution_count": 11,
   "metadata": {},
   "outputs": [
    {
     "data": {
      "image/png": "[encoded data removed]",
      "text/plain": [
       "<Figure size 360x360 with 1 Axes>"
      ]
     },
     "metadata": {},
     "output_type": "display_data"
    }
   ],
   "source": [
    "poss_paths = guess_my_password(G, 'DRU', labels)[2]\n",
    "edges = [(path[node], path[node+1]) for path in poss_paths[:1] for node in range(len(path)-1)]\n",
    "edges = [tup[::-1]  for tup in edges] + edges\n",
    "edge_color = ['orchid' if edge in edges else 'black' for edge in G.edges()]\n",
    "edge_width = [5 if edge in edges else 0.5 for edge in G.edges()]\n",
    "\n",
    "plt.figure(figsize=(5,5))\n",
    "nx.draw(G, pos=pos,\n",
    "        labels=labels,\n",
    "        node_color='orange', \n",
    "        with_labels=True,\n",
    "        node_size=1000,\n",
    "        edge_color=edge_color,\n",
    "        width=edge_width)"
   ]
  },
  {
   "cell_type": "markdown",
   "metadata": {},
   "source": [
    "#### Example 2"
   ]
  },
  {
   "cell_type": "markdown",
   "metadata": {},
   "source": [
    "* Now, let's suppose that Sarah only moved her finger to the right. There obviously only are 9 possible combinantions of nodes. The same reasoning applies to only left, up or down."
   ]
  },
  {
   "cell_type": "code",
   "execution_count": 12,
   "metadata": {},
   "outputs": [
    {
     "name": "stdout",
     "output_type": "stream",
     "text": [
      "The number of different patterns that only follow the direction Right is equal to: 9\n"
     ]
    }
   ],
   "source": [
    "count = guess_my_password(G, 'R', labels)[0]\n",
    "poss_paths = guess_my_password(G, 'R', labels)[1]\n",
    "\n",
    "print(\"The number of different patterns that only follow the direction Right is equal to:\", count)"
   ]
  },
  {
   "cell_type": "code",
   "execution_count": 13,
   "metadata": {},
   "outputs": [
    {
     "name": "stdout",
     "output_type": "stream",
     "text": [
      "[1, 2] [1, 2, 3] [2, 3] [4, 5] [4, 5, 6] [5, 6] [7, 8] [7, 8, 9] [8, 9]\n"
     ]
    }
   ],
   "source": [
    "print(*poss_paths)"
   ]
  },
  {
   "cell_type": "markdown",
   "metadata": {},
   "source": [
    "#### Example 3"
   ]
  },
  {
   "cell_type": "markdown",
   "metadata": {},
   "source": [
    "* The combination of these directions produces a path where at least one node is repeated leading to an interesection. Therefore, the number of different patters following those specific directions is zero."
   ]
  },
  {
   "cell_type": "code",
   "execution_count": 14,
   "metadata": {},
   "outputs": [
    {
     "name": "stdout",
     "output_type": "stream",
     "text": [
      "The number of different patterns that follow the directions Left-Down-Right-Down-Right-Up-Left is equal to: 0\n"
     ]
    }
   ],
   "source": [
    "count = guess_my_password(G, 'LDRDRUL', labels)[0]\n",
    "poss_paths = guess_my_password(G, 'LDRDRUL', labels)[1]\n",
    "\n",
    "print(\"The number of different patterns that follow the directions Left-Down-Right-Down-Right-Up-Left is equal to:\", count)"
   ]
  }
 ],
 "metadata": {
  "kernelspec": {
   "display_name": "Python 3",
   "language": "python",
   "name": "python3"
  },
  "language_info": {
   "codemirror_mode": {
    "name": "ipython",
    "version": 3
   },
   "file_extension": ".py",
   "mimetype": "text/x-python",
   "name": "python",
   "nbconvert_exporter": "python",
   "pygments_lexer": "ipython3",
   "version": "3.8.3"
  }
 },
 "nbformat": 4,
 "nbformat_minor": 4
}
