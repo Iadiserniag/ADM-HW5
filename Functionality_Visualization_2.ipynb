{
 "cells": [
  {
   "cell_type": "markdown",
   "id": "7f468c78",
   "metadata": {},
   "source": [
    "## Functionality 2 - Find top superheroes!\n",
    "\n",
    "As requested for this functionality, two outputs are given:\n",
    "- Mean of the metric of the top N heros introduced.\n",
    "- Metric of the specific node introduced\n",
    "\n",
    "\n",
    "First we create a list containing only the top N heros in edges.csv. Then we calculate the input metric for every node in the graph, filter by only considering those heros in the top_n heros list, and then compute the mean of those heros' metrics. Finally we output the metric of the specific node inputed. Note that, given the time that takes computing betweenness centrality for the whole graph, we calculated in advanced and store it in a dictionary so its retrieval doesn't cause any issue. \n",
    "The output of our function is a dictionary, than contains the information of: node, metric, graph's metric and node's metric:"
   ]
  },
  {
   "cell_type": "markdown",
   "id": "3a610187",
   "metadata": {},
   "source": [
    "#### Graph's 1 example"
   ]
  },
  {
   "cell_type": "code",
   "execution_count": 32,
   "id": "ba855c11",
   "metadata": {},
   "outputs": [
    {
     "data": {
      "text/plain": [
       "{'Node': 'INVISIBLE WOMAN/SUE',\n",
       " 'metric': 'Degree Centrality',\n",
       " 'Graph_metric': array([0.29641745, 0.22056075, 0.23691589, 0.20077882, 0.27056075]),\n",
       " 'Node_metric': 0.1925233644859813}"
      ]
     },
     "execution_count": 32,
     "metadata": {},
     "output_type": "execute_result"
    }
   ],
   "source": [
    "functionality2(G1,\"INVISIBLE WOMAN/SUE\" , \"DegreeCentrality\", edges_df, 5, G1_betweenness)"
   ]
  },
  {
   "cell_type": "markdown",
   "id": "2029f939",
   "metadata": {},
   "source": [
    "#### Graph's 2 example"
   ]
  },
  {
   "cell_type": "code",
   "execution_count": 34,
   "id": "14824870",
   "metadata": {},
   "outputs": [
    {
     "data": {
      "text/plain": [
       "{'Node': 'COC 1',\n",
       " 'metric': 'Degree Centrality',\n",
       " 'Graph_metric': array([0.06988318, 0.06024412, 0.08261302, 0.0504479 , 0.0500812 ]),\n",
       " 'Node_metric': 0.005814867201005815}"
      ]
     },
     "execution_count": 34,
     "metadata": {},
     "output_type": "execute_result"
    }
   ],
   "source": [
    "functionality2(G2,\"COC 1\",\"DegreeCentrality\", edges_df,5,G2_betweenness)"
   ]
  },
  {
   "cell_type": "code",
   "execution_count": 27,
   "id": "1a6d5e22",
   "metadata": {},
   "outputs": [],
   "source": [
    "#Betweeness, PageRank, ClosenessCentrality, DegreeCentrality \n",
    "def functionality2(Graph, Node, metric, edges_df, N,betweenness):\n",
    "    dict_output = {}   \n",
    "    dict_output[\"Node\"] = Node\n",
    "    top_n = edges_df['hero'].value_counts().iloc[:N].index.tolist()\n",
    "    #Metric\n",
    "    if metric == \"Betweeness\":\n",
    "        #graph\n",
    "        dict_output[\"metric\"] = \"Betweeness Centrality\"\n",
    "        pd_page=pd.DataFrame.from_dict(betweenness,orient='index',columns=['centrality'])\n",
    "        dict_output[\"Graph_metric\"] = pd_page.centrality.values[pd_page.index.isin(top_n)]\n",
    "        #node\n",
    "        dict_output[\"Node_metric\"] = G1_betweenness[Node]   \n",
    "    elif metric == \"PageRank\":\n",
    "        #graph\n",
    "        dict_output[\"metric\"] = \"PageRank Centrality\"\n",
    "        m = nx.pagerank(Graph)\n",
    "        pd_page=pd.DataFrame.from_dict(m,orient='index',columns=['centrality'])\n",
    "        dict_output[\"Graph_metric\"]  = pd_page.centrality.values[pd_page.index.isin(top_n)]\n",
    "        #node\n",
    "        dict_output[\"Node_metric\"] = m[Node]\n",
    "    elif metric == \"ClosenessCentrality\":\n",
    "        #graph\n",
    "        dict_output[\"metric\"] = \"Closeness Centrality\"\n",
    "        m = nx.closeness_centrality(Graph)\n",
    "        pd_page=pd.DataFrame.from_dict(m,orient='index',columns=['centrality'])\n",
    "        dict_output[\"Graph_metric\"]  = pd_page.centrality.values[pd_page.index.isin(top_n)]\n",
    "        #node\n",
    "        dict_output[\"Node_metric\"] = m[Node]\n",
    "    elif metric == \"DegreeCentrality\":\n",
    "        #graph\n",
    "        dict_output[\"metric\"] = \"Degree Centrality\"\n",
    "        m = nx.degree_centrality(Graph)\n",
    "        pd_page=pd.DataFrame.from_dict(m,orient='index',columns=['centrality'])\n",
    "        dict_output[\"Graph_metric\"] = pd_page.centrality.values[pd_page.index.isin(top_n)]\n",
    "        #node\n",
    "        dict_output[\"Node_metric\"] = m[Node]\n",
    "        \n",
    "    return dict_output"
   ]
  },
  {
   "cell_type": "markdown",
   "id": "4274f17b",
   "metadata": {},
   "source": [
    "## Visualization 2 - Visualize centrality measure\n",
    "\n",
    "For a better visualization, we have created a function that shows in a table all the metrics of the top N heros of a given graph, and all the metrics of the specific node inputed."
   ]
  },
  {
   "cell_type": "code",
   "execution_count": 28,
   "id": "94990982",
   "metadata": {},
   "outputs": [],
   "source": [
    "def metric_table(graph,node, top_n, edges_df, betweenness):\n",
    "    all_metrics = []\n",
    "    all_lists = []\n",
    "    metrics = [\"Betweeness\", \"PageRank\", \"ClosenessCentrality\", \"DegreeCentrality\"]\n",
    "    for metric in metrics:\n",
    "        f2 = functionality2(graph,node, metric, edges_df, top_n, betweenness)\n",
    "        all_metrics.append(f2)\n",
    "        all_lists.append([f2[\"metric\"],f2[\"Node\"],np.mean(f2[\"Graph_metric\"]) , f2[\"Node_metric\"]])\n",
    "\n",
    "    table = [[\"Metric\",\"Node\",\"Mean of metric for top N heros\", \" Metric of Node\"],all_lists[0], all_lists[1],all_lists[2],all_lists[3]]\n",
    "    return tabulate(table, tablefmt='grid')"
   ]
  },
  {
   "cell_type": "code",
   "execution_count": 29,
   "id": "04b57911",
   "metadata": {
    "scrolled": true
   },
   "outputs": [
    {
     "data": {
      "text/plain": [
       "'+-----------------------+-------------------------+--------------------------------+----------------------+\\n| Metric                | Node                    | Mean of metric for top N heros | Metric of Node       |\\n+-----------------------+-------------------------+--------------------------------+----------------------+\\n| Betweeness Centrality | SPIDER-MAN/PETER PARKER | 0.06525835444883504            | 0.07358526356259773  |\\n+-----------------------+-------------------------+--------------------------------+----------------------+\\n| PageRank Centrality   | SPIDER-MAN/PETER PARKER | 0.004627399424445851           | 0.004753813387420333 |\\n+-----------------------+-------------------------+--------------------------------+----------------------+\\n| Closeness Centrality  | SPIDER-MAN/PETER PARKER | 0.5788807338083907             | 0.5741568906637035   |\\n+-----------------------+-------------------------+--------------------------------+----------------------+\\n| Degree Centrality     | SPIDER-MAN/PETER PARKER | 0.28348909657320875            | 0.2705607476635514   |\\n+-----------------------+-------------------------+--------------------------------+----------------------+'"
      ]
     },
     "execution_count": 29,
     "metadata": {},
     "output_type": "execute_result"
    }
   ],
   "source": [
    "metric_table(G1,\"SPIDER-MAN/PETER PARKER\", 2, edges_df,G1_betweenness)"
   ]
  },
  {
   "cell_type": "markdown",
   "id": "9fd5d7ac",
   "metadata": {},
   "source": [
    "- **Betweeness Centrality**: tells us about the amount of influence a node has over the flow of whole graph. Spiderman's betweeness centrality score is the highest of the graph. It is calculated as the sum of all-pairs of shortest paths that pass through a node V, over the sum of all shortests paths between all nodes in the graph.\n",
    "- **PageRank** Centrality: takes into account not only the amount of connections, but also the quality of those, the more influential they are, the higher the pagerank score will be. Spiderman's pagerank score is the highest of the graph.\n",
    "- **Closeness Centrality**: measures how central is the node, it is calculated as the sum of all shortests paths to all nodes in the graph, and normalized by n-1 (the longest possible path). The bigger the metric, the more central a node is, actually Spiderman's 0.57 is the second highes closeness centrality in graph 1.\n",
    "- **Degree Centrality**: it sums the weights of a node's connections, and then are normalized by dividing by n-1 where n is the number of nodes in G. Therefore, Spiderman's 0.27 is one on the highest of the graph 1."
   ]
  }
 ],
 "metadata": {
  "kernelspec": {
   "display_name": "Python 3",
   "language": "python",
   "name": "python3"
  },
  "language_info": {
   "codemirror_mode": {
    "name": "ipython",
    "version": 3
   },
   "file_extension": ".py",
   "mimetype": "text/x-python",
   "name": "python",
   "nbconvert_exporter": "python",
   "pygments_lexer": "ipython3",
   "version": "3.8.8"
  }
 },
 "nbformat": 4,
 "nbformat_minor": 5
}
