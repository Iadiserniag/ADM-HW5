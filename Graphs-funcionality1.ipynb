{
 "cells": [
  {
   "cell_type": "markdown",
   "metadata": {},
   "source": [
    "### Import Modules"
   ]
  },
  {
   "cell_type": "code",
   "execution_count": 1,
   "metadata": {},
   "outputs": [],
   "source": [
    "import networkx as nx\n",
    "import pandas as pd\n",
    "import matplotlib.pyplot as plt\n",
    "from tabulate import tabulate\n",
    "from collections import Counter\n",
    "import numpy as np"
   ]
  },
  {
   "cell_type": "markdown",
   "metadata": {},
   "source": [
    "### The graphs"
   ]
  },
  {
   "cell_type": "markdown",
   "metadata": {},
   "source": [
    "#### The Data"
   ]
  },
  {
   "cell_type": "code",
   "execution_count": 22,
   "metadata": {},
   "outputs": [],
   "source": [
    "hero_df = pd.read_csv('hero-network.csv')\n",
    "nodes_df = pd.read_csv('nodes.csv')\n",
    "edges_df = pd.read_csv('edges.csv')"
   ]
  },
  {
   "cell_type": "markdown",
   "metadata": {},
   "source": [
    "#### Pre-processing"
   ]
  },
  {
   "cell_type": "code",
   "execution_count": 3,
   "metadata": {},
   "outputs": [],
   "source": [
    "def preprocessing(df):\n",
    "    \n",
    "    # get rid of \"/\" at the end of the names\n",
    "    df['hero1'] = df['hero1'].str.strip('/')\n",
    "    df['hero2'] = df['hero2'].str.strip('/')\n",
    "    \n",
    "    # get rid of spaces at the end of the string\n",
    "    df['hero1'] = df['hero1'].str.strip(' ')\n",
    "    df['hero2'] = df['hero2'].str.strip(' ')\n",
    "    \n",
    "    # transform 'SPIDER-MAN/PETER PARKER' to 'SPIDER-MAN/PETER PAR' to match the name in edges.csv\n",
    "    df['hero1'].replace('SPIDER-MAN/PETER PAR','SPIDER-MAN/PETER PARKER', inplace=True)\n",
    "    df['hero2'].replace('SPIDER-MAN/PETER PAR','SPIDER-MAN/PETER PARKER', inplace=True)\n",
    "    \n",
    "    # Remove entries with same values in both columns in hero_df\n",
    "    index_to_delete = df[df[['hero1','hero2']].nunique(axis=1) == 1].index\n",
    "    df.drop(index_to_delete, axis=0, inplace=True)\n",
    "\n",
    "    return df"
   ]
  },
  {
   "cell_type": "code",
   "execution_count": 4,
   "metadata": {},
   "outputs": [
    {
     "data": {
      "text/html": [
       "<div>\n",
       "<style scoped>\n",
       "    .dataframe tbody tr th:only-of-type {\n",
       "        vertical-align: middle;\n",
       "    }\n",
       "\n",
       "    .dataframe tbody tr th {\n",
       "        vertical-align: top;\n",
       "    }\n",
       "\n",
       "    .dataframe thead th {\n",
       "        text-align: right;\n",
       "    }\n",
       "</style>\n",
       "<table border=\"1\" class=\"dataframe\">\n",
       "  <thead>\n",
       "    <tr style=\"text-align: right;\">\n",
       "      <th></th>\n",
       "      <th>hero1</th>\n",
       "      <th>hero2</th>\n",
       "    </tr>\n",
       "  </thead>\n",
       "  <tbody>\n",
       "    <tr>\n",
       "      <th>0</th>\n",
       "      <td>LITTLE, ABNER</td>\n",
       "      <td>PRINCESS ZANDA</td>\n",
       "    </tr>\n",
       "    <tr>\n",
       "      <th>1</th>\n",
       "      <td>LITTLE, ABNER</td>\n",
       "      <td>BLACK PANTHER/T'CHAL</td>\n",
       "    </tr>\n",
       "    <tr>\n",
       "      <th>2</th>\n",
       "      <td>BLACK PANTHER/T'CHAL</td>\n",
       "      <td>PRINCESS ZANDA</td>\n",
       "    </tr>\n",
       "    <tr>\n",
       "      <th>3</th>\n",
       "      <td>LITTLE, ABNER</td>\n",
       "      <td>PRINCESS ZANDA</td>\n",
       "    </tr>\n",
       "    <tr>\n",
       "      <th>4</th>\n",
       "      <td>LITTLE, ABNER</td>\n",
       "      <td>BLACK PANTHER/T'CHAL</td>\n",
       "    </tr>\n",
       "    <tr>\n",
       "      <th>...</th>\n",
       "      <td>...</td>\n",
       "      <td>...</td>\n",
       "    </tr>\n",
       "    <tr>\n",
       "      <th>574462</th>\n",
       "      <td>COLOSSUS II/PETER RA</td>\n",
       "      <td>CALLISTO</td>\n",
       "    </tr>\n",
       "    <tr>\n",
       "      <th>574463</th>\n",
       "      <td>CALLISTO</td>\n",
       "      <td>ROGUE</td>\n",
       "    </tr>\n",
       "    <tr>\n",
       "      <th>574464</th>\n",
       "      <td>CALLISTO</td>\n",
       "      <td>CALIBAN</td>\n",
       "    </tr>\n",
       "    <tr>\n",
       "      <th>574465</th>\n",
       "      <td>CALIBAN</td>\n",
       "      <td>ROGUE</td>\n",
       "    </tr>\n",
       "    <tr>\n",
       "      <th>574466</th>\n",
       "      <td>HULK/DR. ROBERT BRUC</td>\n",
       "      <td>MARKS, DR. SHIELA</td>\n",
       "    </tr>\n",
       "  </tbody>\n",
       "</table>\n",
       "<p>572235 rows × 2 columns</p>\n",
       "</div>"
      ],
      "text/plain": [
       "                       hero1                 hero2\n",
       "0              LITTLE, ABNER        PRINCESS ZANDA\n",
       "1              LITTLE, ABNER  BLACK PANTHER/T'CHAL\n",
       "2       BLACK PANTHER/T'CHAL        PRINCESS ZANDA\n",
       "3              LITTLE, ABNER        PRINCESS ZANDA\n",
       "4              LITTLE, ABNER  BLACK PANTHER/T'CHAL\n",
       "...                      ...                   ...\n",
       "574462  COLOSSUS II/PETER RA              CALLISTO\n",
       "574463              CALLISTO                 ROGUE\n",
       "574464              CALLISTO               CALIBAN\n",
       "574465               CALIBAN                 ROGUE\n",
       "574466  HULK/DR. ROBERT BRUC     MARKS, DR. SHIELA\n",
       "\n",
       "[572235 rows x 2 columns]"
      ]
     },
     "execution_count": 4,
     "metadata": {},
     "output_type": "execute_result"
    }
   ],
   "source": [
    "hero_df = preprocessing(hero_df)\n",
    "hero_df"
   ]
  },
  {
   "cell_type": "markdown",
   "metadata": {},
   "source": [
    "#### Graphs"
   ]
  },
  {
   "cell_type": "code",
   "execution_count": 5,
   "metadata": {},
   "outputs": [],
   "source": [
    "data = hero_df.copy()"
   ]
  },
  {
   "cell_type": "code",
   "execution_count": 6,
   "metadata": {},
   "outputs": [],
   "source": [
    "# weigh G1 based on the number of collaborations\n",
    "\n",
    "data = data.groupby(['hero1', 'hero2']).size().reset_index(name = 'count')\n",
    "data['weight'] = 1/data['count'] # the inverse of the number of collaborations"
   ]
  },
  {
   "cell_type": "code",
   "execution_count": 7,
   "metadata": {},
   "outputs": [],
   "source": [
    "G1 = nx.from_pandas_edgelist(data, 'hero1', 'hero2', edge_attr='weight')\n",
    "G2 = nx.from_pandas_edgelist(edges_df, 'hero', 'comic')"
   ]
  },
  {
   "cell_type": "markdown",
   "metadata": {},
   "source": [
    "### Functionality 1"
   ]
  },
  {
   "cell_type": "markdown",
   "metadata": {},
   "source": [
    "Function **Functionality1** takes as inputs:\n",
    "* the $Graph$ which, in our case, it's either $G1$ or $G2$\n",
    "* $graphtype$ which takes values 1 or 2\n",
    "* $nodes\\_df$, the dataframe containing all the hero and comic nodes.\n",
    "* $edges\\_df$, the dataframe containing all the relationships between hero and comic nodes.\n",
    "* and finally $N$, the number of top-N heroes we are considering in our analysis.\n",
    "\n",
    "#### The Top_n heroes\n",
    "**Top_n** is just a list of the $n$ heroes who have appeared in the most number of comics. We exploit the $value\\_counts()$ function and we take the top $n$ heroes i.e., the ones having the highest degree or number of connections with the comic nodes and put those names ($.index$) in a list ($.tolist()$). As for $G1$ we are only interested in hero nodes, we just need to create a subgraph of $G1$ containing solely the heroes listed in $top\\_n$. Instead, for $G2$ we are also interested in the comic nodes. Therefore, we need to recover the edge list from the $edges\\_df$ which solely contains the connections between the $top\\_n$ heroes and the comics they can be found in. Then, we build the sup graph using the $nx.from\\_pandas\\_edgelist()$ function from the newly defined edge list $edges\\_df$.\n",
    "\n",
    "#### 1.1 The number of nodes\n",
    "For graph $G1$ we just need to use $Graph.nodes()$ function. For graph $G2$ it's slightly more complicated as we need to consider the $top\\_n$ heroes as well as the comics that are linked to at least one of the $top\\_n$ heroes. Once we identified those nodes in $nodes\\_df$, we can group by node type and count ($.size()$) the number of hero nodes and comic nodes.\n",
    "\n",
    "#### 1.2 The number of collaborations of each superhero with the others (only if type 1)\n",
    "The number of collaborations is just the **degree** of each superhero ($Graph.degree()$). Functionality1 returns a dictionary having as keys the heroes and as values the degree or number of connections with the other superheroes in the graph.\n",
    "\n",
    "#### 1.3 The number of heroes that have appeared in each comic (only if type 2)\n",
    "Similarly as for $G1$, the number of heroes that have appeared in each comic is jus the degree of each comic. \n",
    "\n",
    "#### 1.4 The network's density\n",
    "Found by using the $nx.density()$ function of $Networkx$.\n",
    "\n",
    "#### 1.5 The network's degree distribution\n",
    "The degree distribution is depicted in **Visualization1** through the use of an another function that creates the histogram.\n",
    "\n",
    "#### 1.6 Average degree\n",
    "The average degree is defined as the total sum of the degrees in the network over the number of nodes in the network.\n",
    "\n",
    "#### 1.7 The network's Hubs (hubs are nodes having degrees more extensive than the 95th percentile of the degree distribution)\n",
    "First, we calculate the 95th percentile of the degree distribution by using $np.percentile()$. Then, we select only those nodes having degree greater than $perc$. Finally, we build a dataframe containing the **Network's Hubs** sorted in descending order according to their degree.\n",
    "\n",
    "#### 1.8 Whether the Network is sparse or dense\n",
    "$Density$ takes values between 0 and 1. The closer the density is to 1, the more dense the network is. I set the threshold to 50%. If the density is above 50% then, we consider the network *dense*, otherwise *sparse*."
   ]
  },
  {
   "cell_type": "code",
   "execution_count": 23,
   "metadata": {},
   "outputs": [],
   "source": [
    "def functionality1(Graph, graphtype, nodes_df, edges_df, N):\n",
    "    \n",
    "            \n",
    "    top_n = edges_df['hero'].value_counts().iloc[:N].index.tolist() # list of top_n heroes\n",
    "    edges_df = edges_df[edges_df.hero.isin(top_n)] # get only the edges (connections) where the hero is in the top_n\n",
    "    \n",
    "    if graphtype == 1:\n",
    "        \n",
    "        if N == len(Graph.nodes()):\n",
    "            sub_Graph = Graph\n",
    "        else:\n",
    "            sub_Graph = Graph.subgraph(top_n)\n",
    "        \n",
    "        nodes = len(sub_Graph.nodes()) # number of nodes\n",
    "        \n",
    "        degree = dict(sub_Graph.degree()) # number of collaborations = degree (number of connections) of each superhero\n",
    "        \n",
    "        \n",
    "    elif graphtype == 2:\n",
    "        \n",
    "        sub_Graph = nx.from_pandas_edgelist(edges_df, 'hero', 'comic') # build a graph starting from the newly defined edges_df\n",
    "        \n",
    "        # get only those nodes that either are in the top_n (heroes) or comic nodes that are connected to the top_n hero nodes\n",
    "        nodes_df = nodes_df[(nodes_df.node.isin(top_n)) | (nodes_df.node.isin(edges_df[edges_df.hero.isin(top_n)].comic.unique().tolist()))]\n",
    "        nodes = nodes_df.groupby('type').size() # number of nodes for each type (hero or comic)\n",
    "        \n",
    "        degree = dict(sub_Graph.degree(edges_df['comic']))\n",
    "        \n",
    "        \n",
    "    # average degree\n",
    "    avg_deg = round(sum(degree.values())/len(degree), 2)\n",
    "    \n",
    "    # 95th percentile\n",
    "    perc = np.percentile(list(degree.values()), 95)\n",
    "    hubs, hub_degree = [], []\n",
    "    for node in degree:\n",
    "        if degree[node] > perc:\n",
    "            hubs.append(node)\n",
    "            hub_degree.append(degree[node])\n",
    "        \n",
    "    # hubs dataframe sorted in descending order by degree\n",
    "    hubs_df = pd.DataFrame({'hub':hubs,\n",
    "                            'degree':hub_degree}).sort_values('degree', ascending = False).reset_index(drop=True)\n",
    "    \n",
    "    \n",
    "    # network density\n",
    "    density = round(nx.density(sub_Graph), 5)\n",
    "    \n",
    "    if density > 0.5: # maximum density is 1 for complete graphs\n",
    "        is_dense = \"dense\"\n",
    "    else:\n",
    "        is_dense = \"sparse\"\n",
    "        \n",
    "        \n",
    "    return nodes, density, degree, avg_deg, is_dense, hubs_df"
   ]
  },
  {
   "cell_type": "markdown",
   "metadata": {},
   "source": [
    "### Visualization 1"
   ]
  },
  {
   "cell_type": "markdown",
   "metadata": {},
   "source": [
    "#### 1.1 A table containing the following general information about the graph: Number of nodes in the network, Density of the network. Average degree of the network, Whether the network is sparse or dense"
   ]
  },
  {
   "cell_type": "markdown",
   "metadata": {},
   "source": [
    "#### Example1: N = 40"
   ]
  },
  {
   "cell_type": "markdown",
   "metadata": {},
   "source": [
    "* Let's let $N$ to 40. Therefore, we are considering the $top\\_40$ hero nodes (listed in $edges\\_df$)."
   ]
  },
  {
   "cell_type": "code",
   "execution_count": 14,
   "metadata": {},
   "outputs": [],
   "source": [
    "nodes_G1, density_G1, degree_G1, avg_deg_G1, is_dense_G1, hubs_df_G1 = functionality1(G1, 1, nodes_df, edges_df, 40)\n",
    "nodes_G2, density_G2, degree_G2, avg_deg_G2, is_dense_G2, hubs_df_G2 = functionality1(G2, 2, nodes_df, edges_df, 40)"
   ]
  },
  {
   "cell_type": "markdown",
   "metadata": {},
   "source": [
    "* As can be seen in the table below, the number of hero nodes is equal to 39 even though we wanted the $top\\_40$ heroes. This means that at least one of the nodes listed in $edges\\_df$ is not in $nodes\\_df$.\n",
    "* The number of comic nodes is much larger than the number of hero nodes, this is way theh network's density is a lot smaller than for $G1$."
   ]
  },
  {
   "cell_type": "code",
   "execution_count": 15,
   "metadata": {},
   "outputs": [
    {
     "name": "stdout",
     "output_type": "stream",
     "text": [
      "+-----------------+---------+----------------+-----------------+\n",
      "| number of nodes | density | average degree | dense or sparse |\n",
      "+-----------------+---------+----------------+-----------------+\n",
      "| 40              | 0.98974 | 38.6           | dense           |\n",
      "+-----------------+---------+----------------+-----------------+\n"
     ]
    }
   ],
   "source": [
    "table_G1 = [['number of nodes', 'density', 'average degree', 'dense or sparse'], \n",
    "         [nodes_G1, density_G1, avg_deg_G1, is_dense_G1]]\n",
    "\n",
    "print(tabulate(table_G1, tablefmt='grid'))"
   ]
  },
  {
   "cell_type": "code",
   "execution_count": 16,
   "metadata": {},
   "outputs": [
    {
     "name": "stdout",
     "output_type": "stream",
     "text": [
      "+-----------------------+----------------------+---------+----------------+-----------------+\n",
      "| number of comic nodes | number of hero nodes | density | average degree | dense or sparse |\n",
      "+-----------------------+----------------------+---------+----------------+-----------------+\n",
      "| 8464                  | 39                   | 0.00068 | 2.92           | sparse          |\n",
      "+-----------------------+----------------------+---------+----------------+-----------------+\n"
     ]
    }
   ],
   "source": [
    "table_G2 = [['number of comic nodes', 'number of hero nodes', 'density', 'average degree', 'dense or sparse'], \n",
    "            [nodes_G2[0], nodes_G2[1], density_G2, avg_deg_G2, is_dense_G2]]\n",
    "\n",
    "print(tabulate(table_G2, tablefmt='grid'))"
   ]
  },
  {
   "cell_type": "markdown",
   "metadata": {},
   "source": [
    "#### Example 2: N = all nodes\n",
    "* Now, let's consider the whole Graphs $G1$ and $G2$. We will stick with this example until the end of $Visualization2$."
   ]
  },
  {
   "cell_type": "code",
   "execution_count": 24,
   "metadata": {},
   "outputs": [],
   "source": [
    "nodes_G1, density_G1, degree_G1, avg_deg_G1, is_dense_G1, hubs_df_G1 = functionality1(G1, 1, nodes_df, edges_df, len(G1.nodes()))\n",
    "nodes_G2, density_G2, degree_G2, avg_deg_G2, is_dense_G2, hubs_df_G2 = functionality1(G2, 2, nodes_df, edges_df, len(G2.nodes()))"
   ]
  },
  {
   "cell_type": "markdown",
   "metadata": {},
   "source": [
    "* Now, both graphs are sparse with less that $1$% density."
   ]
  },
  {
   "cell_type": "code",
   "execution_count": 25,
   "metadata": {},
   "outputs": [
    {
     "name": "stdout",
     "output_type": "stream",
     "text": [
      "+-----------------+---------+----------------+-----------------+\n",
      "| number of nodes | density | average degree | dense or sparse |\n",
      "+-----------------+---------+----------------+-----------------+\n",
      "| 6421            | 0.00811 | 52.05          | sparse          |\n",
      "+-----------------+---------+----------------+-----------------+\n"
     ]
    }
   ],
   "source": [
    "table_G1 = [['number of nodes', 'density', 'average degree', 'dense or sparse'], \n",
    "         [nodes_G1, density_G1, avg_deg_G1, is_dense_G1]]\n",
    "\n",
    "print(tabulate(table_G1, tablefmt='grid'))"
   ]
  },
  {
   "cell_type": "code",
   "execution_count": 26,
   "metadata": {},
   "outputs": [
    {
     "name": "stdout",
     "output_type": "stream",
     "text": [
      "+-----------------------+----------------------+---------+----------------+-----------------+\n",
      "| number of comic nodes | number of hero nodes | density | average degree | dense or sparse |\n",
      "+-----------------------+----------------------+---------+----------------+-----------------+\n",
      "| 12651                 | 6438                 | 0.00053 | 7.6            | sparse          |\n",
      "+-----------------------+----------------------+---------+----------------+-----------------+\n"
     ]
    }
   ],
   "source": [
    "table_G2 = [['number of comic nodes', 'number of hero nodes', 'density', 'average degree', 'dense or sparse'], \n",
    "            [nodes_G2[0], nodes_G2[1], density_G2, avg_deg_G2, is_dense_G2]]\n",
    "\n",
    "print(tabulate(table_G2, tablefmt='grid'))"
   ]
  },
  {
   "cell_type": "markdown",
   "metadata": {},
   "source": [
    "#### 1.2 A table that lists the network's hubs"
   ]
  },
  {
   "cell_type": "markdown",
   "metadata": {},
   "source": [
    "* There are $320$ hubs in $G1$, as the 95th percentile of the degree distribution is equal to $190$.\n",
    "* The three most important hubs are Captain America, Spiderman and Iron man."
   ]
  },
  {
   "cell_type": "code",
   "execution_count": 27,
   "metadata": {},
   "outputs": [
    {
     "data": {
      "text/html": [
       "<div>\n",
       "<style scoped>\n",
       "    .dataframe tbody tr th:only-of-type {\n",
       "        vertical-align: middle;\n",
       "    }\n",
       "\n",
       "    .dataframe tbody tr th {\n",
       "        vertical-align: top;\n",
       "    }\n",
       "\n",
       "    .dataframe thead th {\n",
       "        text-align: right;\n",
       "    }\n",
       "</style>\n",
       "<table border=\"1\" class=\"dataframe\">\n",
       "  <thead>\n",
       "    <tr style=\"text-align: right;\">\n",
       "      <th></th>\n",
       "      <th>hub</th>\n",
       "      <th>degree</th>\n",
       "    </tr>\n",
       "  </thead>\n",
       "  <tbody>\n",
       "    <tr>\n",
       "      <th>0</th>\n",
       "      <td>CAPTAIN AMERICA</td>\n",
       "      <td>1903</td>\n",
       "    </tr>\n",
       "    <tr>\n",
       "      <th>1</th>\n",
       "      <td>SPIDER-MAN/PETER PARKER</td>\n",
       "      <td>1737</td>\n",
       "    </tr>\n",
       "    <tr>\n",
       "      <th>2</th>\n",
       "      <td>IRON MAN/TONY STARK</td>\n",
       "      <td>1521</td>\n",
       "    </tr>\n",
       "    <tr>\n",
       "      <th>3</th>\n",
       "      <td>THING/BENJAMIN J. GR</td>\n",
       "      <td>1416</td>\n",
       "    </tr>\n",
       "    <tr>\n",
       "      <th>4</th>\n",
       "      <td>MR. FANTASTIC/REED R</td>\n",
       "      <td>1377</td>\n",
       "    </tr>\n",
       "    <tr>\n",
       "      <th>...</th>\n",
       "      <td>...</td>\n",
       "      <td>...</td>\n",
       "    </tr>\n",
       "    <tr>\n",
       "      <th>315</th>\n",
       "      <td>VULTURE/ADRIAN TOOME</td>\n",
       "      <td>193</td>\n",
       "    </tr>\n",
       "    <tr>\n",
       "      <th>316</th>\n",
       "      <td>AJAK/TECUMOTZIN [ETE</td>\n",
       "      <td>192</td>\n",
       "    </tr>\n",
       "    <tr>\n",
       "      <th>317</th>\n",
       "      <td>HOBGOBLIN V/JASON PH</td>\n",
       "      <td>191</td>\n",
       "    </tr>\n",
       "    <tr>\n",
       "      <th>318</th>\n",
       "      <td>FIREFIST/RUSTY COLLI</td>\n",
       "      <td>191</td>\n",
       "    </tr>\n",
       "    <tr>\n",
       "      <th>319</th>\n",
       "      <td>TIGER SHARK/TODD ARL</td>\n",
       "      <td>191</td>\n",
       "    </tr>\n",
       "  </tbody>\n",
       "</table>\n",
       "<p>320 rows × 2 columns</p>\n",
       "</div>"
      ],
      "text/plain": [
       "                         hub  degree\n",
       "0            CAPTAIN AMERICA    1903\n",
       "1    SPIDER-MAN/PETER PARKER    1737\n",
       "2        IRON MAN/TONY STARK    1521\n",
       "3       THING/BENJAMIN J. GR    1416\n",
       "4       MR. FANTASTIC/REED R    1377\n",
       "..                       ...     ...\n",
       "315     VULTURE/ADRIAN TOOME     193\n",
       "316     AJAK/TECUMOTZIN [ETE     192\n",
       "317     HOBGOBLIN V/JASON PH     191\n",
       "318     FIREFIST/RUSTY COLLI     191\n",
       "319     TIGER SHARK/TODD ARL     191\n",
       "\n",
       "[320 rows x 2 columns]"
      ]
     },
     "execution_count": 27,
     "metadata": {},
     "output_type": "execute_result"
    }
   ],
   "source": [
    "hubs_df_G1"
   ]
  },
  {
   "cell_type": "markdown",
   "metadata": {},
   "source": [
    "* There are $553$ hubs in $G2$, as the 95th percentile of the degree distribution is equal to $19$."
   ]
  },
  {
   "cell_type": "code",
   "execution_count": 28,
   "metadata": {},
   "outputs": [
    {
     "data": {
      "text/html": [
       "<div>\n",
       "<style scoped>\n",
       "    .dataframe tbody tr th:only-of-type {\n",
       "        vertical-align: middle;\n",
       "    }\n",
       "\n",
       "    .dataframe tbody tr th {\n",
       "        vertical-align: top;\n",
       "    }\n",
       "\n",
       "    .dataframe thead th {\n",
       "        text-align: right;\n",
       "    }\n",
       "</style>\n",
       "<table border=\"1\" class=\"dataframe\">\n",
       "  <thead>\n",
       "    <tr style=\"text-align: right;\">\n",
       "      <th></th>\n",
       "      <th>hub</th>\n",
       "      <th>degree</th>\n",
       "    </tr>\n",
       "  </thead>\n",
       "  <tbody>\n",
       "    <tr>\n",
       "      <th>0</th>\n",
       "      <td>COC 1</td>\n",
       "      <td>111</td>\n",
       "    </tr>\n",
       "    <tr>\n",
       "      <th>1</th>\n",
       "      <td>IW 3</td>\n",
       "      <td>91</td>\n",
       "    </tr>\n",
       "    <tr>\n",
       "      <th>2</th>\n",
       "      <td>IW 1</td>\n",
       "      <td>90</td>\n",
       "    </tr>\n",
       "    <tr>\n",
       "      <th>3</th>\n",
       "      <td>H2 279</td>\n",
       "      <td>87</td>\n",
       "    </tr>\n",
       "    <tr>\n",
       "      <th>4</th>\n",
       "      <td>IW 4</td>\n",
       "      <td>80</td>\n",
       "    </tr>\n",
       "    <tr>\n",
       "      <th>...</th>\n",
       "      <td>...</td>\n",
       "      <td>...</td>\n",
       "    </tr>\n",
       "    <tr>\n",
       "      <th>548</th>\n",
       "      <td>A 187</td>\n",
       "      <td>20</td>\n",
       "    </tr>\n",
       "    <tr>\n",
       "      <th>549</th>\n",
       "      <td>UX 384</td>\n",
       "      <td>20</td>\n",
       "    </tr>\n",
       "    <tr>\n",
       "      <th>550</th>\n",
       "      <td>A 168</td>\n",
       "      <td>20</td>\n",
       "    </tr>\n",
       "    <tr>\n",
       "      <th>551</th>\n",
       "      <td>A 100</td>\n",
       "      <td>20</td>\n",
       "    </tr>\n",
       "    <tr>\n",
       "      <th>552</th>\n",
       "      <td>NW 73</td>\n",
       "      <td>20</td>\n",
       "    </tr>\n",
       "  </tbody>\n",
       "</table>\n",
       "<p>553 rows × 2 columns</p>\n",
       "</div>"
      ],
      "text/plain": [
       "        hub  degree\n",
       "0     COC 1     111\n",
       "1      IW 3      91\n",
       "2      IW 1      90\n",
       "3    H2 279      87\n",
       "4      IW 4      80\n",
       "..      ...     ...\n",
       "548   A 187      20\n",
       "549  UX 384      20\n",
       "550   A 168      20\n",
       "551   A 100      20\n",
       "552   NW 73      20\n",
       "\n",
       "[553 rows x 2 columns]"
      ]
     },
     "execution_count": 28,
     "metadata": {},
     "output_type": "execute_result"
    }
   ],
   "source": [
    "hubs_df_G2"
   ]
  },
  {
   "cell_type": "markdown",
   "metadata": {},
   "source": [
    "#### 1.3 A plot depicting the number of collaborations of each hero in descending order (if the graph is type 1)"
   ]
  },
  {
   "cell_type": "markdown",
   "metadata": {},
   "source": [
    "#### Barchart function"
   ]
  },
  {
   "cell_type": "markdown",
   "metadata": {},
   "source": [
    "* We exploit the $degree\\_dict$ found in $functionality1$ to build a **barchart** depicting the degree of the first 50 heroes ($.head(50)$) in descending order."
   ]
  },
  {
   "cell_type": "code",
   "execution_count": 29,
   "metadata": {},
   "outputs": [],
   "source": [
    "def barchart(degree_dict, color, node_type):\n",
    "    \n",
    "    nodes, degree = [], []\n",
    "    for node in degree_dict:\n",
    "        nodes.append(node)\n",
    "        degree.append(degree_dict[node])\n",
    "\n",
    "    # hubs dataframe sorted in descending order by degree\n",
    "    deg_df = pd.DataFrame({'node':nodes,\n",
    "                           'degree':degree}).sort_values('degree', ascending = False).reset_index(drop=True).head(50)\n",
    "\n",
    "    fig = plt.figure(figsize = (20, 10))\n",
    " \n",
    "    # creating the bar plot\n",
    "    plt.bar(deg_df.node, deg_df.degree, color = color,\n",
    "            width = 0.6)\n",
    "    plt.xticks(rotation='vertical')\n",
    "    plt.xlabel(str(node_type), size = 15)\n",
    "    plt.ylabel(\"No. of collaborations\", size = 15)\n",
    "    plt.title(\"No. of collaborations of each \" + str(node_type), size = 20)\n",
    "    \n",
    "    return plt.show()"
   ]
  },
  {
   "cell_type": "markdown",
   "metadata": {},
   "source": [
    "* Obviously the plot below represents the **first 50 hubs** seen in *point 1.2*."
   ]
  },
  {
   "cell_type": "code",
   "execution_count": 30,
   "metadata": {},
   "outputs": [
    {
     "data": {
      "image/png": "[encoded data removed]",
      "text/plain": [
       "<Figure size 1440x720 with 1 Axes>"
      ]
     },
     "metadata": {
      "needs_background": "light"
     },
     "output_type": "display_data"
    }
   ],
   "source": [
    "barchart(degree_G1, \"orchid\", \"hero\")"
   ]
  },
  {
   "cell_type": "markdown",
   "metadata": {},
   "source": [
    "#### 1.4 A plot depicting the number of heroes who appeared in each comic, sorted in descending order (if the graph is type 2)"
   ]
  },
  {
   "cell_type": "code",
   "execution_count": 31,
   "metadata": {},
   "outputs": [
    {
     "data": {
      "image/png": "[encoded data removed]",
      "text/plain": [
       "<Figure size 1440x720 with 1 Axes>"
      ]
     },
     "metadata": {
      "needs_background": "light"
     },
     "output_type": "display_data"
    }
   ],
   "source": [
    "barchart(degree_G2, \"lightgreen\", \"comic\")"
   ]
  },
  {
   "cell_type": "markdown",
   "metadata": {},
   "source": [
    "#### 1.5 A plot depicting the degree distribution of the network"
   ]
  },
  {
   "cell_type": "markdown",
   "metadata": {},
   "source": [
    "#### The function"
   ]
  },
  {
   "cell_type": "markdown",
   "metadata": {},
   "source": [
    "* We exploit the $degree\\_dict$ found in $functionality1$ to build a **histogram** depicting the network's degree distribution."
   ]
  },
  {
   "cell_type": "code",
   "execution_count": 32,
   "metadata": {},
   "outputs": [],
   "source": [
    "def degree_distribution(degree_dict, color):\n",
    "    \n",
    "    degree_sequence = sorted([degree_dict[k] for k in degree_dict if degree_dict[k] < 200], reverse=True)  # degree sequence\n",
    "\n",
    "    degreeCount = Counter(degree_sequence)\n",
    "    deg, cnt = zip(*degreeCount.items())\n",
    "    \n",
    "    fig = plt.figure(figsize = (20, 10))\n",
    "    plt.bar(deg, cnt, width=0.80, color=color)\n",
    "\n",
    "    plt.title(\"Degree Histogram\", size = 20)\n",
    "    plt.ylabel(\"Count\", size = 15)\n",
    "    plt.xlabel(\"Degree\", size = 15)\n",
    "\n",
    "    return plt.show()"
   ]
  },
  {
   "cell_type": "markdown",
   "metadata": {},
   "source": [
    "#### The plots"
   ]
  },
  {
   "cell_type": "markdown",
   "metadata": {},
   "source": [
    "* Both distribution are really skewed, as the plots are heavily shifted to the left. This means that the majority of nodes in both networks have smaller degrees while only a few **\"more popular\" heroes or comics** have a much higher degree than the rest, equivalently those are the **hubs**."
   ]
  },
  {
   "cell_type": "code",
   "execution_count": 33,
   "metadata": {},
   "outputs": [
    {
     "data": {
      "image/png": "[encoded data removed]",
      "text/plain": [
       "<Figure size 1440x720 with 1 Axes>"
      ]
     },
     "metadata": {
      "needs_background": "light"
     },
     "output_type": "display_data"
    }
   ],
   "source": [
    "degree_distribution(degree_G1, 'orange')"
   ]
  },
  {
   "cell_type": "code",
   "execution_count": 34,
   "metadata": {},
   "outputs": [
    {
     "data": {
      "image/png": "[encoded data removed]",
      "text/plain": [
       "<Figure size 1440x720 with 1 Axes>"
      ]
     },
     "metadata": {
      "needs_background": "light"
     },
     "output_type": "display_data"
    }
   ],
   "source": [
    "degree_distribution(degree_G2, 'dodgerblue')"
   ]
  }
 ],
 "metadata": {
  "kernelspec": {
   "display_name": "Python 3",
   "language": "python",
   "name": "python3"
  },
  "language_info": {
   "codemirror_mode": {
    "name": "ipython",
    "version": 3
   },
   "file_extension": ".py",
   "mimetype": "text/x-python",
   "name": "python",
   "nbconvert_exporter": "python",
   "pygments_lexer": "ipython3",
   "version": "3.8.3"
  }
 },
 "nbformat": 4,
 "nbformat_minor": 4
}
